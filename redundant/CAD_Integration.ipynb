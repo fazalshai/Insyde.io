{
 "cells": [
  {
   "cell_type": "code",
   "execution_count": 3,
   "metadata": {},
   "outputs": [
    {
     "name": "stdout",
     "output_type": "stream",
     "text": [
      "Updated HVAC position to: (6, 5, 2.5)\n",
      "Updated HVAC placement saved in CAD model.\n"
     ]
    }
   ],
   "source": [
    "import FreeCAD\n",
    "\n",
    "# AI Predicted HVAC Placement (x, y, z)\n",
    "predicted_hvac_position = (6, 5, 2.5)  # Replace with AI output\n",
    "\n",
    "# Load CAD file\n",
    "fcstd_file = \"HVAC_Building.FCStd\"\n",
    "doc = FreeCAD.open(fcstd_file)\n",
    "\n",
    "# Find the HVAC unit object\n",
    "hvac_unit = None\n",
    "for obj in doc.Objects:\n",
    "    if obj.Name == \"AC_Unit\":  # Ensure correct object name\n",
    "        hvac_unit = obj\n",
    "        break\n",
    "\n",
    "# Update HVAC unit position\n",
    "if hvac_unit:\n",
    "    hvac_unit.Placement.Base = FreeCAD.Vector(*predicted_hvac_position)\n",
    "    print(f\"Updated HVAC position to: {predicted_hvac_position}\")\n",
    "\n",
    "# Save and close the updated CAD file\n",
    "doc.recompute()\n",
    "doc.save()\n",
    "FreeCAD.closeDocument(doc.Name)\n",
    "print(\"Updated HVAC placement saved in CAD model.\")\n"
   ]
  },
  {
   "cell_type": "code",
   "execution_count": null,
   "metadata": {},
   "outputs": [],
   "source": []
  }
 ],
 "metadata": {
  "kernelspec": {
   "display_name": "Python 3",
   "language": "python",
   "name": "python3"
  },
  "language_info": {
   "codemirror_mode": {
    "name": "ipython",
    "version": 3
   },
   "file_extension": ".py",
   "mimetype": "text/x-python",
   "name": "python",
   "nbconvert_exporter": "python",
   "pygments_lexer": "ipython3",
   "version": "3.11.9"
  }
 },
 "nbformat": 4,
 "nbformat_minor": 2
}
