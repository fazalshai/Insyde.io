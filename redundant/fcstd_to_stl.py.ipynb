{
 "cells": [
  {
   "cell_type": "code",
   "execution_count": 2,
   "metadata": {},
   "outputs": [
    {
     "name": "stdout",
     "output_type": "stream",
     "text": [
      "Exported C:\\Fazal\\AI HVAC\\HVAC_Building.FCStd to HVAC_Building.stl\n"
     ]
    }
   ],
   "source": [
    "import FreeCAD\n",
    "import Mesh  # FreeCAD module for mesh export\n",
    "\n",
    "# Load your FreeCAD file\n",
    "fcstd_file = \"C:\\Fazal\\AI HVAC\\HVAC_Building.FCStd\"\n",
    "doc = FreeCAD.open(fcstd_file)\n",
    "\n",
    "# Define output STL file path\n",
    "stl_file = \"HVAC_Building.stl\"\n",
    "\n",
    "# Collect all 3D objects\n",
    "objects = [obj for obj in doc.Objects if obj.TypeId.startswith(\"Part::\")]\n",
    "\n",
    "# Export as STL\n",
    "Mesh.export(objects, stl_file)\n",
    "print(f\"Exported {fcstd_file} to {stl_file}\")\n",
    "\n",
    "# Close FreeCAD document\n",
    "FreeCAD.closeDocument(doc.Name)\n"
   ]
  },
  {
   "cell_type": "code",
   "execution_count": null,
   "metadata": {},
   "outputs": [],
   "source": []
  }
 ],
 "metadata": {
  "kernelspec": {
   "display_name": "Python 3",
   "language": "python",
   "name": "python3"
  },
  "language_info": {
   "codemirror_mode": {
    "name": "ipython",
    "version": 3
   },
   "file_extension": ".py",
   "mimetype": "text/x-python",
   "name": "python",
   "nbconvert_exporter": "python",
   "pygments_lexer": "ipython3",
   "version": "3.11.9"
  }
 },
 "nbformat": 4,
 "nbformat_minor": 2
}
